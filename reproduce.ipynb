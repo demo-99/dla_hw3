{
  "nbformat": 4,
  "nbformat_minor": 0,
  "metadata": {
    "notebookPath": "dla_hw3.ipynb",
    "accelerator": "GPU",
    "language_info": {
      "name": "python",
      "codemirror_mode": {
        "name": "ipython",
        "version": 3
      },
      "mimetype": "text/x-python",
      "version": "3.7.7",
      "file_extension": ".py",
      "pygments_lexer": "ipython3",
      "nbconvert_exporter": "python"
    },
    "notebookId": "7594eeb8-39fe-4de7-b78d-70113919ea32",
    "colab": {
      "name": "reproduce.ipynb",
      "provenance": [],
      "collapsed_sections": []
    },
    "kernelspec": {
      "name": "python3",
      "display_name": "Yandex DataSphere Kernel",
      "language": "python"
    }
  },
  "cells": [
    {
      "cell_type": "code",
      "metadata": {
        "id": "f9DlX7qJ25K9",
        "cellId": "c9um9cxjfsl1qd8lhx2uj",
        "trusted": true,
        "colab": {
          "base_uri": "https://localhost:8080/"
        },
        "outputId": "504cdc13-851b-4e3e-b041-260bbf8426d6"
      },
      "source": [
        "!git clone https://github.com/demo-99/dla_hw3"
      ],
      "execution_count": null,
      "outputs": [
        {
          "output_type": "stream",
          "name": "stdout",
          "text": "Cloning into 'dla_hw3'...\nremote: Enumerating objects: 88, done.\u001b[K\nremote: Counting objects: 100% (88/88), done.\u001b[K\nremote: Compressing objects: 100% (61/61), done.\u001b[K\nremote: Total 88 (delta 48), reused 60 (delta 25), pack-reused 0\u001b[K\nUnpacking objects: 100% (88/88), done.\n"
        }
      ]
    },
    {
      "cell_type": "code",
      "metadata": {
        "id": "yn0jYt2U1lc2",
        "cellId": "z3p3pj529oolafbds9xzso",
        "trusted": true,
        "colab": {
          "base_uri": "https://localhost:8080/"
        },
        "outputId": "bc7a0886-8539-4aee-ab83-0769f550f287"
      },
      "source": [
        "!wget https://data.keithito.com/data/speech/LJSpeech-1.1.tar.bz2\n",
        "!tar -xjf LJSpeech-1.1.tar.bz2"
      ],
      "execution_count": null,
      "outputs": [
        {
          "output_type": "stream",
          "name": "stdout",
          "text": "--2021-12-05 20:52:00--  https://data.keithito.com/data/speech/LJSpeech-1.1.tar.bz2\nResolving data.keithito.com (data.keithito.com)... 174.138.79.61\nConnecting to data.keithito.com (data.keithito.com)|174.138.79.61|:443... connected.\nHTTP request sent, awaiting response... 200 OK\nLength: 2748572632 (2.6G) [application/octet-stream]\nSaving to: ‘LJSpeech-1.1.tar.bz2’\n\nLJSpeech-1.1.tar.bz 100%[===================>]   2.56G  24.9MB/s    in 2m 40s  \n\n2021-12-05 20:55:15 (16.4 MB/s) - ‘LJSpeech-1.1.tar.bz2’ saved [2748572632/2748572632]\n\n"
        }
      ]
    },
    {
      "cell_type": "code",
      "metadata": {
        "colab": {
          "base_uri": "https://localhost:8080/"
        },
        "id": "S1yjUtzzV2OT",
        "outputId": "7ebc4d77-469b-44c2-8934-382a09e3684f"
      },
      "source": [
        "!pip install gdown\n",
        "!gdown --id 1PRaPUmsMItTyuiLsXC3bsV48kCzydC7K"
      ],
      "execution_count": null,
      "outputs": [
        {
          "output_type": "stream",
          "name": "stdout",
          "text": [
            "Requirement already satisfied: gdown in /usr/local/lib/python3.7/dist-packages (3.6.4)\n",
            "Requirement already satisfied: requests in /usr/local/lib/python3.7/dist-packages (from gdown) (2.23.0)\n",
            "Requirement already satisfied: six in /usr/local/lib/python3.7/dist-packages (from gdown) (1.15.0)\n",
            "Requirement already satisfied: tqdm in /usr/local/lib/python3.7/dist-packages (from gdown) (4.62.3)\n",
            "Requirement already satisfied: idna<3,>=2.5 in /usr/local/lib/python3.7/dist-packages (from requests->gdown) (2.10)\n",
            "Requirement already satisfied: chardet<4,>=3.0.2 in /usr/local/lib/python3.7/dist-packages (from requests->gdown) (3.0.4)\n",
            "Requirement already satisfied: certifi>=2017.4.17 in /usr/local/lib/python3.7/dist-packages (from requests->gdown) (2021.10.8)\n",
            "Requirement already satisfied: urllib3!=1.25.0,!=1.25.1,<1.26,>=1.21.1 in /usr/local/lib/python3.7/dist-packages (from requests->gdown) (1.24.3)\n",
            "Downloading...\n",
            "From: https://drive.google.com/uc?id=1PRaPUmsMItTyuiLsXC3bsV48kCzydC7K\n",
            "To: /content/fastspeech_checkpoint\n",
            "100% 274M/274M [00:02<00:00, 92.2MB/s]\n"
          ]
        }
      ]
    },
    {
      "cell_type": "code",
      "metadata": {
        "id": "XbjPxueM1c2Y",
        "cellId": "au8v9fuz6jnwoe5lu468ea",
        "trusted": true,
        "colab": {
          "base_uri": "https://localhost:8080/"
        },
        "outputId": "b091de63-ef58-4e82-e553-2870f2635931"
      },
      "source": [
        "#!g1.1\n",
        "%pip install torch==1.10.0+cu111 torchaudio==0.10.0+cu111 -f https://download.pytorch.org/whl/torch_stable.html\n",
        "!git clone https://github.com/NVIDIA/waveglow.git"
      ],
      "execution_count": null,
      "outputs": [
        {
          "output_type": "stream",
          "name": "stdout",
          "text": "Defaulting to user installation because normal site-packages is not writeable\nLooking in links: https://download.pytorch.org/whl/torch_stable.html\nCollecting torch==1.10.0+cu111\n  Downloading https://download.pytorch.org/whl/cu111/torch-1.10.0%2Bcu111-cp37-cp37m-linux_x86_64.whl (2137.6 MB)\n\u001b[K     |████████████████████████████████| 2137.6 MB 89 bytes/s \n\u001b[?25hCollecting torchaudio==0.10.0+cu111\n  Downloading https://download.pytorch.org/whl/cu111/torchaudio-0.10.0%2Bcu111-cp37-cp37m-linux_x86_64.whl (2.9 MB)\n\u001b[K     |████████████████████████████████| 2.9 MB 80.5 MB/s \n\u001b[?25hRequirement already satisfied: typing-extensions in /kernel/lib/python3.7/site-packages (from torch==1.10.0+cu111) (4.0.0)\nInstalling collected packages: torch, torchaudio\n\u001b[33m  WARNING: The scripts convert-caffe2-to-onnx, convert-onnx-to-caffe2 and torchrun are installed in '/home/jupyter/.local/bin' which is not on PATH.\n  Consider adding this directory to PATH or, if you prefer to suppress this warning, use --no-warn-script-location.\u001b[0m\n\u001b[31mERROR: pip's dependency resolver does not currently take into account all the packages that are installed. This behaviour is the source of the following dependency conflicts.\ntorchvision 0.7.0 requires torch==1.6.0, but you have torch 1.10.0+cu111 which is incompatible.\nmmdet 2.3.0rc0+c6b5ca2 requires Pillow<=6.2.2, but you have pillow 8.4.0 which is incompatible.\nmmdet 2.3.0rc0+c6b5ca2 requires torch==1.6.0, but you have torch 1.10.0+cu111 which is incompatible.\nenot-utils 1.0.2 requires torch==1.6.0, but you have torch 1.10.0+cu111 which is incompatible.\u001b[0m\nSuccessfully installed torch-1.10.0+cu111 torchaudio-0.10.0+cu111\n\u001b[33mWARNING: You are using pip version 21.0.1; however, version 21.3.1 is available.\nYou should consider upgrading via the '/usr/local/bin/python3 -m pip install --upgrade pip' command.\u001b[0m\nCloning into 'waveglow'...\nremote: Enumerating objects: 190, done.\u001b[K\nremote: Total 190 (delta 0), reused 0 (delta 0), pack-reused 190\u001b[K\nReceiving objects: 100% (190/190), 435.59 KiB | 1.97 MiB/s, done.\nResolving deltas: 100% (106/106), done.\n"
        }
      ]
    },
    {
      "cell_type": "code",
      "metadata": {
        "id": "dN8F_xiA3hcz",
        "cellId": "yoe0gcr0ykgte2s00a8t",
        "trusted": true,
        "colab": {
          "base_uri": "https://localhost:8080/"
        },
        "outputId": "f55a21c1-8549-4a52-9109-96b60c674242"
      },
      "source": [
        "#!g1.1\n",
        "%pip install -r dla_hw3/requirements.txt"
      ],
      "execution_count": null,
      "outputs": [
        {
          "output_type": "stream",
          "name": "stdout",
          "text": "Defaulting to user installation because normal site-packages is not writeable\nRequirement already satisfied: torch~=1.10.0 in /home/jupyter/.local/lib/python3.7/site-packages (from -r dla_hw3/requirements.txt (line 1)) (1.10.0+cu111)\nRequirement already satisfied: torchaudio~=0.10.0 in /home/jupyter/.local/lib/python3.7/site-packages (from -r dla_hw3/requirements.txt (line 2)) (0.10.0+cu111)\nCollecting numpy~=1.20.3\n  Downloading numpy-1.20.3-cp37-cp37m-manylinux_2_12_x86_64.manylinux2010_x86_64.whl (15.3 MB)\n\u001b[K     |████████████████████████████████| 15.3 MB 2.8 MB/s \n\u001b[?25hCollecting tqdm~=4.62.3\n  Downloading tqdm-4.62.3-py2.py3-none-any.whl (76 kB)\n\u001b[K     |████████████████████████████████| 76 kB 6.7 MB/s \n\u001b[?25hRequirement already satisfied: matplotlib in /kernel/lib/python3.7/site-packages (from -r dla_hw3/requirements.txt (line 5)) (3.3.3)\nCollecting librosa~=0.8.1\n  Downloading librosa-0.8.1-py3-none-any.whl (203 kB)\n\u001b[K     |████████████████████████████████| 203 kB 89.3 MB/s \n\u001b[?25hCollecting pandas~=1.3.3\n  Downloading pandas-1.3.4-cp37-cp37m-manylinux_2_17_x86_64.manylinux2014_x86_64.whl (11.3 MB)\n\u001b[K     |████████████████████████████████| 11.3 MB 52.6 MB/s \n\u001b[?25hCollecting datasets\n  Downloading datasets-1.16.1-py3-none-any.whl (298 kB)\n\u001b[K     |████████████████████████████████| 298 kB 61.7 MB/s \n\u001b[?25hCollecting wandb~=0.12.4\n  Downloading wandb-0.12.7-py2.py3-none-any.whl (1.7 MB)\n\u001b[K     |████████████████████████████████| 1.7 MB 57.6 MB/s \n\u001b[?25hRequirement already satisfied: wget in /usr/local/lib/python3.7/dist-packages (from -r dla_hw3/requirements.txt (line 10)) (3.2)\nRequirement already satisfied: googledrivedownloader in /usr/local/lib/python3.7/dist-packages (from -r dla_hw3/requirements.txt (line 11)) (0.4)\nRequirement already satisfied: numba>=0.43.0 in /usr/local/lib/python3.7/dist-packages (from librosa~=0.8.1->-r dla_hw3/requirements.txt (line 6)) (0.51.2)\nRequirement already satisfied: scikit-learn!=0.19.0,>=0.14.0 in /usr/local/lib/python3.7/dist-packages (from librosa~=0.8.1->-r dla_hw3/requirements.txt (line 6)) (0.22.1)\nRequirement already satisfied: pooch>=1.0 in /usr/local/lib/python3.7/dist-packages (from librosa~=0.8.1->-r dla_hw3/requirements.txt (line 6)) (1.4.0)\nRequirement already satisfied: audioread>=2.0.0 in /usr/local/lib/python3.7/dist-packages (from librosa~=0.8.1->-r dla_hw3/requirements.txt (line 6)) (2.1.9)\nRequirement already satisfied: soundfile>=0.10.2 in /usr/local/lib/python3.7/dist-packages (from librosa~=0.8.1->-r dla_hw3/requirements.txt (line 6)) (0.10.3.post1)\nRequirement already satisfied: packaging>=20.0 in /kernel/lib/python3.7/site-packages (from librosa~=0.8.1->-r dla_hw3/requirements.txt (line 6)) (20.9)\nRequirement already satisfied: scipy>=1.0.0 in /usr/local/lib/python3.7/dist-packages (from librosa~=0.8.1->-r dla_hw3/requirements.txt (line 6)) (1.4.1)\nRequirement already satisfied: decorator>=3.0.0 in /kernel/lib/python3.7/site-packages (from librosa~=0.8.1->-r dla_hw3/requirements.txt (line 6)) (5.1.0)\nRequirement already satisfied: resampy>=0.2.2 in /usr/local/lib/python3.7/dist-packages (from librosa~=0.8.1->-r dla_hw3/requirements.txt (line 6)) (0.2.2)\nRequirement already satisfied: joblib>=0.14 in /usr/local/lib/python3.7/dist-packages (from librosa~=0.8.1->-r dla_hw3/requirements.txt (line 6)) (1.0.1)\nRequirement already satisfied: python-dateutil>=2.7.3 in /kernel/lib/python3.7/site-packages (from pandas~=1.3.3->-r dla_hw3/requirements.txt (line 7)) (2.8.2)\nRequirement already satisfied: pytz>=2017.3 in /usr/local/lib/python3.7/dist-packages (from pandas~=1.3.3->-r dla_hw3/requirements.txt (line 7)) (2021.1)\nRequirement already satisfied: typing-extensions in /kernel/lib/python3.7/site-packages (from torch~=1.10.0->-r dla_hw3/requirements.txt (line 1)) (4.0.0)\nRequirement already satisfied: six>=1.13.0 in /kernel/lib/python3.7/site-packages (from wandb~=0.12.4->-r dla_hw3/requirements.txt (line 9)) (1.16.0)\nRequirement already satisfied: PyYAML in /usr/local/lib/python3.7/dist-packages (from wandb~=0.12.4->-r dla_hw3/requirements.txt (line 9)) (5.3.1)\nRequirement already satisfied: GitPython>=1.0.0 in /usr/local/lib/python3.7/dist-packages (from wandb~=0.12.4->-r dla_hw3/requirements.txt (line 9)) (3.1.18)\nRequirement already satisfied: protobuf>=3.12.0 in /usr/local/lib/python3.7/dist-packages (from wandb~=0.12.4->-r dla_hw3/requirements.txt (line 9)) (3.17.3)\nRequirement already satisfied: requests<3,>=2.0.0 in /kernel/lib/python3.7/site-packages (from wandb~=0.12.4->-r dla_hw3/requirements.txt (line 9)) (2.25.1)\nRequirement already satisfied: psutil>=5.0.0 in /kernel/lib/python3.7/site-packages (from wandb~=0.12.4->-r dla_hw3/requirements.txt (line 9)) (5.7.3)\nCollecting subprocess32>=3.5.3\n  Downloading subprocess32-3.5.4.tar.gz (97 kB)\n\u001b[K     |████████████████████████████████| 97 kB 8.6 MB/s \n\u001b[?25hCollecting yaspin>=1.0.0\n  Downloading yaspin-2.1.0-py3-none-any.whl (18 kB)\nCollecting pathtools\n  Downloading pathtools-0.1.2.tar.gz (11 kB)\nRequirement already satisfied: configparser>=3.8.1 in /usr/local/lib/python3.7/dist-packages (from wandb~=0.12.4->-r dla_hw3/requirements.txt (line 9)) (4.0.2)\nRequirement already satisfied: promise<3,>=2.0 in /usr/local/lib/python3.7/dist-packages (from wandb~=0.12.4->-r dla_hw3/requirements.txt (line 9)) (2.3)\nRequirement already satisfied: Click!=8.0.0,>=7.0 in /usr/local/lib/python3.7/dist-packages (from wandb~=0.12.4->-r dla_hw3/requirements.txt (line 9)) (7.1.2)\nCollecting sentry-sdk>=1.0.0\n  Downloading sentry_sdk-1.5.0-py2.py3-none-any.whl (140 kB)\n\u001b[K     |████████████████████████████████| 140 kB 78.4 MB/s \n\u001b[?25hRequirement already satisfied: shortuuid>=0.5.0 in /usr/local/lib/python3.7/dist-packages (from wandb~=0.12.4->-r dla_hw3/requirements.txt (line 9)) (1.0.1)\nCollecting docker-pycreds>=0.4.0\n  Downloading docker_pycreds-0.4.0-py2.py3-none-any.whl (9.0 kB)\nRequirement already satisfied: gitdb<5,>=4.0.1 in /usr/local/lib/python3.7/dist-packages (from GitPython>=1.0.0->wandb~=0.12.4->-r dla_hw3/requirements.txt (line 9)) (4.0.7)\nRequirement already satisfied: smmap<5,>=3.0.1 in /usr/local/lib/python3.7/dist-packages (from gitdb<5,>=4.0.1->GitPython>=1.0.0->wandb~=0.12.4->-r dla_hw3/requirements.txt (line 9)) (4.0.0)\nRequirement already satisfied: setuptools in /kernel/lib/python3.7/site-packages (from numba>=0.43.0->librosa~=0.8.1->-r dla_hw3/requirements.txt (line 6)) (51.0.0)\nRequirement already satisfied: llvmlite<0.35,>=0.34.0.dev0 in /usr/local/lib/python3.7/dist-packages (from numba>=0.43.0->librosa~=0.8.1->-r dla_hw3/requirements.txt (line 6)) (0.34.0)\nRequirement already satisfied: pyparsing>=2.0.2 in /kernel/lib/python3.7/site-packages (from packaging>=20.0->librosa~=0.8.1->-r dla_hw3/requirements.txt (line 6)) (2.4.7)\nRequirement already satisfied: appdirs in /usr/local/lib/python3.7/dist-packages (from pooch>=1.0->librosa~=0.8.1->-r dla_hw3/requirements.txt (line 6)) (1.4.4)\nRequirement already satisfied: idna<3,>=2.5 in /kernel/lib/python3.7/site-packages (from requests<3,>=2.0.0->wandb~=0.12.4->-r dla_hw3/requirements.txt (line 9)) (2.10)\nRequirement already satisfied: certifi>=2017.4.17 in /kernel/lib/python3.7/site-packages (from requests<3,>=2.0.0->wandb~=0.12.4->-r dla_hw3/requirements.txt (line 9)) (2021.10.8)\nRequirement already satisfied: urllib3<1.27,>=1.21.1 in /kernel/lib/python3.7/site-packages (from requests<3,>=2.0.0->wandb~=0.12.4->-r dla_hw3/requirements.txt (line 9)) (1.26.7)\nRequirement already satisfied: chardet<5,>=3.0.2 in /kernel/lib/python3.7/site-packages (from requests<3,>=2.0.0->wandb~=0.12.4->-r dla_hw3/requirements.txt (line 9)) (4.0.0)\nRequirement already satisfied: cffi>=1.0 in /kernel/lib/python3.7/site-packages (from soundfile>=0.10.2->librosa~=0.8.1->-r dla_hw3/requirements.txt (line 6)) (1.15.0)\nRequirement already satisfied: pycparser in /kernel/lib/python3.7/site-packages (from cffi>=1.0->soundfile>=0.10.2->librosa~=0.8.1->-r dla_hw3/requirements.txt (line 6)) (2.21)\nRequirement already satisfied: termcolor<2.0.0,>=1.1.0 in /usr/local/lib/python3.7/dist-packages (from yaspin>=1.0.0->wandb~=0.12.4->-r dla_hw3/requirements.txt (line 9)) (1.1.0)\nRequirement already satisfied: importlib-metadata in /kernel/lib/python3.7/site-packages (from datasets->-r dla_hw3/requirements.txt (line 8)) (4.8.2)\nCollecting huggingface-hub<1.0.0,>=0.1.0\n  Downloading huggingface_hub-0.2.1-py3-none-any.whl (61 kB)\n\u001b[K     |████████████████████████████████| 61 kB 880 kB/s \n\u001b[?25hRequirement already satisfied: dill in /usr/local/lib/python3.7/dist-packages (from datasets->-r dla_hw3/requirements.txt (line 8)) (0.3.4)\nRequirement already satisfied: fsspec[http]>=2021.05.0 in /usr/local/lib/python3.7/dist-packages (from datasets->-r dla_hw3/requirements.txt (line 8)) (2021.7.0)\nCollecting aiohttp\n  Downloading aiohttp-3.8.1-cp37-cp37m-manylinux_2_5_x86_64.manylinux1_x86_64.manylinux_2_12_x86_64.manylinux2010_x86_64.whl (1.1 MB)\n\u001b[K     |████████████████████████████████| 1.1 MB 49.9 MB/s \n\u001b[?25hCollecting multiprocess\n  Downloading multiprocess-0.70.12.2-py37-none-any.whl (112 kB)\n\u001b[K     |████████████████████████████████| 112 kB 90.9 MB/s \n\u001b[?25hRequirement already satisfied: xxhash in /kernel/lib/python3.7/site-packages (from datasets->-r dla_hw3/requirements.txt (line 8)) (2.0.0)\nCollecting datasets\n  Downloading datasets-1.16.0-py3-none-any.whl (298 kB)\n\u001b[K     |████████████████████████████████| 298 kB 77.5 MB/s \n\u001b[?25h  Downloading datasets-1.15.1-py3-none-any.whl (290 kB)\n\u001b[K     |████████████████████████████████| 290 kB 86.3 MB/s \n\u001b[?25h  Downloading datasets-1.15.0-py3-none-any.whl (290 kB)\n\u001b[K     |████████████████████████████████| 290 kB 83.9 MB/s \n\u001b[?25h  Downloading datasets-1.14.0-py3-none-any.whl (290 kB)\n\u001b[K     |████████████████████████████████| 290 kB 80.9 MB/s \n\u001b[?25h  Downloading datasets-1.13.3-py3-none-any.whl (287 kB)\n\u001b[K     |████████████████████████████████| 287 kB 86.5 MB/s \n\u001b[?25h  Downloading datasets-1.13.2-py3-none-any.whl (287 kB)\n\u001b[K     |████████████████████████████████| 287 kB 78.8 MB/s \n\u001b[?25h  Downloading datasets-1.13.1-py3-none-any.whl (287 kB)\n\u001b[K     |████████████████████████████████| 287 kB 87.7 MB/s \n\u001b[?25hCollecting huggingface-hub<0.1.0,>=0.0.18\n  Downloading huggingface_hub-0.0.19-py3-none-any.whl (56 kB)\n\u001b[K     |████████████████████████████████| 56 kB 2.0 MB/s \n\u001b[?25hCollecting datasets\n  Downloading datasets-1.13.0-py3-none-any.whl (285 kB)\n\u001b[K     |████████████████████████████████| 285 kB 94.3 MB/s \n\u001b[?25h  Downloading datasets-1.12.1-py3-none-any.whl (270 kB)\n\u001b[K     |████████████████████████████████| 270 kB 71.9 MB/s \n\u001b[?25h  Downloading datasets-1.12.0-py3-none-any.whl (269 kB)\n\u001b[K     |████████████████████████████████| 269 kB 90.1 MB/s \n\u001b[?25h  Downloading datasets-1.11.0-py3-none-any.whl (264 kB)\n\u001b[K     |████████████████████████████████| 264 kB 89.5 MB/s \n\u001b[?25h  Downloading datasets-1.10.2-py3-none-any.whl (542 kB)\n\u001b[K     |████████████████████████████████| 542 kB 60.7 MB/s \n\u001b[?25h  Downloading datasets-1.10.1-py3-none-any.whl (542 kB)\n\u001b[K     |████████████████████████████████| 542 kB 61.3 MB/s \n\u001b[?25h  Downloading datasets-1.10.0-py3-none-any.whl (542 kB)\n\u001b[K     |████████████████████████████████| 542 kB 78.3 MB/s \n\u001b[?25h  Downloading datasets-1.9.0-py3-none-any.whl (262 kB)\n\u001b[K     |████████████████████████████████| 262 kB 89.8 MB/s \n\u001b[?25h  Downloading datasets-1.8.0-py3-none-any.whl (237 kB)\n\u001b[K     |████████████████████████████████| 237 kB 49.0 MB/s \n\u001b[?25h  Downloading datasets-1.7.0-py3-none-any.whl (234 kB)\n\u001b[K     |████████████████████████████████| 234 kB 91.8 MB/s \n\u001b[?25h  Downloading datasets-1.6.2-py3-none-any.whl (221 kB)\n\u001b[K     |████████████████████████████████| 221 kB 90.2 MB/s \n\u001b[?25h  Downloading datasets-1.6.1-py3-none-any.whl (220 kB)\n\u001b[K     |████████████████████████████████| 220 kB 86.1 MB/s \n\u001b[?25h  Downloading datasets-1.6.0-py3-none-any.whl (202 kB)\n\u001b[K     |████████████████████████████████| 202 kB 84.2 MB/s \n\u001b[?25h  Downloading datasets-1.5.0-py3-none-any.whl (192 kB)\n\u001b[K     |████████████████████████████████| 192 kB 88.7 MB/s \n\u001b[?25h  Downloading datasets-1.4.1-py3-none-any.whl (186 kB)\n\u001b[K     |████████████████████████████████| 186 kB 89.7 MB/s \n\u001b[?25hCollecting huggingface-hub==0.0.2\n  Downloading huggingface_hub-0.0.2-py3-none-any.whl (24 kB)\nCollecting datasets\n  Downloading datasets-1.4.0-py3-none-any.whl (186 kB)\n\u001b[K     |████████████████████████████████| 186 kB 83.7 MB/s \n\u001b[?25h  Downloading datasets-1.3.0-py3-none-any.whl (181 kB)\n\u001b[K     |████████████████████████████████| 181 kB 86.4 MB/s \n\u001b[?25h  Downloading datasets-1.2.1-py3-none-any.whl (159 kB)\n\u001b[K     |████████████████████████████████| 159 kB 87.5 MB/s \n\u001b[?25h  Downloading datasets-1.2.0-py3-none-any.whl (159 kB)\n\u001b[K     |████████████████████████████████| 159 kB 87.2 MB/s \n\u001b[?25h  Downloading datasets-1.1.3-py3-none-any.whl (153 kB)\n\u001b[K     |████████████████████████████████| 153 kB 81.3 MB/s \n\u001b[?25h  Downloading datasets-1.1.2-py3-none-any.whl (147 kB)\n\u001b[K     |████████████████████████████████| 147 kB 86.2 MB/s \n\u001b[?25hRequirement already satisfied: filelock in /usr/local/lib/python3.7/dist-packages (from datasets->-r dla_hw3/requirements.txt (line 8)) (3.0.12)\n  Downloading datasets-1.1.1-py3-none-any.whl (147 kB)\n\u001b[K     |████████████████████████████████| 147 kB 84.4 MB/s \n\u001b[?25hCollecting pyarrow>=0.17.1\n  Downloading pyarrow-0.17.1-cp37-cp37m-manylinux2014_x86_64.whl (63.8 MB)\n\u001b[K     |████████████████████████████████| 63.8 MB 70 kB/s \n\u001b[?25hRequirement already satisfied: kiwisolver>=1.0.1 in /kernel/lib/python3.7/site-packages (from matplotlib->-r dla_hw3/requirements.txt (line 5)) (1.3.2)\nRequirement already satisfied: cycler>=0.10 in /kernel/lib/python3.7/site-packages (from matplotlib->-r dla_hw3/requirements.txt (line 5)) (0.11.0)\nRequirement already satisfied: pillow>=6.2.0 in /kernel/lib/python3.7/site-packages (from matplotlib->-r dla_hw3/requirements.txt (line 5)) (8.4.0)\nBuilding wheels for collected packages: subprocess32, pathtools\n  Building wheel for subprocess32 (setup.py) ... \u001b[?25ldone\n\u001b[?25h  Created wheel for subprocess32: filename=subprocess32-3.5.4-py3-none-any.whl size=6488 sha256=b131a4f94eb736466db427c9879d2553882adcaa48db806b9c0dedaa41e51ab9\n  Stored in directory: /tmp/xdg_cache/pip/wheels/50/ca/fa/8fca8d246e64f19488d07567547ddec8eb084e8c0d7a59226a\n  Building wheel for pathtools (setup.py) ... \u001b[?25ldone\n\u001b[?25h  Created wheel for pathtools: filename=pathtools-0.1.2-py3-none-any.whl size=8784 sha256=ea6470ea31e48623397ba85fd52bba3b998e49c423ce3bbdd0c6c0d73e34533c\n  Stored in directory: /tmp/xdg_cache/pip/wheels/3e/31/09/fa59cef12cdcfecc627b3d24273699f390e71828921b2cbba2\nSuccessfully built subprocess32 pathtools\nInstalling collected packages: numpy, yaspin, tqdm, subprocess32, sentry-sdk, pyarrow, pathtools, pandas, multiprocess, docker-pycreds, wandb, librosa, datasets\n\u001b[33m  WARNING: The scripts f2py, f2py3 and f2py3.7 are installed in '/home/jupyter/.local/bin' which is not on PATH.\n  Consider adding this directory to PATH or, if you prefer to suppress this warning, use --no-warn-script-location.\u001b[0m\n\u001b[33m  WARNING: The script tqdm is installed in '/home/jupyter/.local/bin' which is not on PATH.\n  Consider adding this directory to PATH or, if you prefer to suppress this warning, use --no-warn-script-location.\u001b[0m\n\u001b[33m  WARNING: The script plasma_store is installed in '/home/jupyter/.local/bin' which is not on PATH.\n  Consider adding this directory to PATH or, if you prefer to suppress this warning, use --no-warn-script-location.\u001b[0m\n\u001b[33m  WARNING: The scripts wandb and wb are installed in '/home/jupyter/.local/bin' which is not on PATH.\n  Consider adding this directory to PATH or, if you prefer to suppress this warning, use --no-warn-script-location.\u001b[0m\n\u001b[31mERROR: pip's dependency resolver does not currently take into account all the packages that are installed. This behaviour is the source of the following dependency conflicts.\ntorchvision 0.7.0 requires torch==1.6.0, but you have torch 1.10.0+cu111 which is incompatible.\nthinc 8.0.8 requires typing-extensions<4.0.0.0,>=3.7.4.1; python_version < \"3.8\", but you have typing-extensions 4.0.0 which is incompatible.\nspacy 3.1.1 requires typing-extensions<4.0.0.0,>=3.7.4; python_version < \"3.8\", but you have typing-extensions 4.0.0 which is incompatible.\nmmdet 2.3.0rc0+c6b5ca2 requires Pillow<=6.2.2, but you have pillow 8.4.0 which is incompatible.\nmmdet 2.3.0rc0+c6b5ca2 requires torch==1.6.0, but you have torch 1.10.0+cu111 which is incompatible.\nkaggle 1.5.8 requires urllib3<1.25,>=1.21.1, but you have urllib3 1.26.7 which is incompatible.\nenot-utils 1.0.2 requires torch==1.6.0, but you have torch 1.10.0+cu111 which is incompatible.\ncloud-ml 0.0.1 requires tqdm<=4.54.1,>=4.45.0, but you have tqdm 4.62.3 which is incompatible.\u001b[0m\nSuccessfully installed datasets-1.1.1 docker-pycreds-0.4.0 librosa-0.8.1 multiprocess-0.70.12.2 numpy-1.20.3 pandas-1.3.4 pathtools-0.1.2 pyarrow-0.17.1 sentry-sdk-1.5.0 subprocess32-3.5.4 tqdm-4.62.3 wandb-0.12.7 yaspin-2.1.0\n\u001b[33mWARNING: You are using pip version 21.0.1; however, version 21.3.1 is available.\nYou should consider upgrading via the '/usr/local/bin/python3 -m pip install --upgrade pip' command.\u001b[0m\n"
        }
      ]
    },
    {
      "cell_type": "code",
      "metadata": {
        "cellId": "khv8hp6e0fsiy1nvzz7vvk",
        "trusted": true,
        "id": "hiTENVcJVwLa",
        "outputId": "358d5cbd-1295-481b-dfae-dcaf3b21a159"
      },
      "source": [
        "#!g1.1\n",
        "import wandb\n",
        "\n",
        "wandb.login()"
      ],
      "execution_count": null,
      "outputs": [
        {
          "output_type": "stream",
          "name": "stdin",
          "text": "\u001b[34m\u001b[1mwandb\u001b[0m: Paste an API key from your profile and hit enter, or press ctrl+c to quit:  ec3f93cf34f2bb5b2540421f641690ce1bf4cfd2\n"
        },
        {
          "output_type": "stream",
          "name": "stderr",
          "text": "Failed to detect the name of this notebook, you can set it manually with the WANDB_NOTEBOOK_NAME environment variable to enable code saving.\n\u001b[34m\u001b[1mwandb\u001b[0m: You can find your API key in your browser here: https://wandb.ai/authorize\n\u001b[34m\u001b[1mwandb\u001b[0m: Appending key for api.wandb.ai to your netrc file: /home/jupyter/.netrc\n"
        },
        {
          "output_type": "display_data",
          "data": {
            "text/plain": "True"
          },
          "metadata": {}
        }
      ]
    },
    {
      "cell_type": "code",
      "metadata": {
        "id": "6_YXlBjM7pdl",
        "cellId": "u0p85ne705ze9q3u83il",
        "trusted": true,
        "colab": {
          "base_uri": "https://localhost:8080/"
        },
        "outputId": "51d276f9-1380-4494-ca5e-06750f9b0f89"
      },
      "source": [
        "#!g1.1\n",
        "!cd dla_hw3 && git pull"
      ],
      "execution_count": null,
      "outputs": [
        {
          "output_type": "stream",
          "name": "stdout",
          "text": "remote: Enumerating objects: 5, done.\u001b[K\nremote: Counting objects: 100% (5/5), done.\u001b[K\nremote: Compressing objects: 100% (1/1), done.\u001b[K\nremote: Total 3 (delta 2), reused 3 (delta 2), pack-reused 0\u001b[K\nUnpacking objects: 100% (3/3), done.\nFrom https://github.com/demo-99/dla_hw3\n   5c4672f..d981b48  main       -> origin/main\nUpdating 5c4672f..d981b48\nFast-forward\n train.py | 4 \u001b[32m++\u001b[m\u001b[31m--\u001b[m\n 1 file changed, 2 insertions(+), 2 deletions(-)\n"
        }
      ]
    },
    {
      "cell_type": "code",
      "metadata": {
        "execution_id": "0a2f49bb-2aa4-4232-b946-1b073f39e03f",
        "trusted": true,
        "colab": {
          "base_uri": "https://localhost:8080/"
        },
        "id": "jlGOMFJhLd_Z",
        "cellId": "w8ublf9fc2b116lrspcxhxe",
        "outputId": "db4dd817-9e4e-4f77-a718-520c2f09ac03"
      },
      "source": [
        "#!g1.1\n",
        "!python3 dla_hw3/train.py"
      ],
      "execution_count": null,
      "outputs": [
        {
          "output_type": "stream",
          "name": "stdout",
          "text": "\u001b[34m\u001b[1mwandb\u001b[0m: Currently logged in as: \u001b[33mmmalafeev\u001b[0m (use `wandb login --relogin` to force relogin)\n\u001b[34m\u001b[1mwandb\u001b[0m: Tracking run with wandb version 0.12.7\n\u001b[34m\u001b[1mwandb\u001b[0m: Syncing run \u001b[33mautumn-mountain-41\u001b[0m\n\u001b[34m\u001b[1mwandb\u001b[0m: ⭐️ View project at \u001b[34m\u001b[4mhttps://wandb.ai/mmalafeev/dla_hw3_fastspeech\u001b[0m\n\u001b[34m\u001b[1mwandb\u001b[0m: 🚀 View run at \u001b[34m\u001b[4mhttps://wandb.ai/mmalafeev/dla_hw3_fastspeech/runs/20c6h3mg\u001b[0m\n\u001b[34m\u001b[1mwandb\u001b[0m: Run data is saved locally in /home/jupyter/work/resources/wandb/run-20211206_134238-20c6h3mg\n\u001b[34m\u001b[1mwandb\u001b[0m: Run `wandb offline` to turn off syncing.\n\n\n\n\n\n\n\n\n\n\n\n\n\n\n\n\n\n\n\n\n\n\n\n\n\n\n\n\n\n\n\n\n\n\n\n\n\n\n\n\n\n\n\n\n\n\n\n\n\n\n\n\n\n\n\n\n\n\n\n\n\n\n\n\n\n\n\n\n\n\n\n\n\n\n\n\n\n\n\n\n\n\n\n\n\n\n\n\n\n\n\n\n\n\n\n\n\n\n\n\n\n\n\n\n\n\n\n\n\n\n\n\n\n\n\n\n\n\n\n\n\n\n\n\n\n\n\n\n\n\n\n\n\n\n\n\n\n\n\n\n\n\n\n\n\n\n\n\n\n\n\n\n\n\n\n\n\n\n\n\n\n\n\n\n\n\n\n\n\n\n\n\n\n\n\n\n\n\n\n\n\n\n\n\n\n\n\n\n\n\n\n\n\n\n\n\n\n\n\n\n\n\n\n\n\n\n\n\n\n\n\n\n\n\n\n\n\n\n\n\n\n\n\n\n\n\n\n\n\n\n\n\n\n\n\n\n\n\n\n\n\n\n\n\n\n\n\n\n\n\n119it [13:15,  6.75s/it]\n129it [14:23,  6.72s/it]\n136it [15:10,  6.75s/it]\n9it [01:00,  6.78s/it]\n19it [02:08,  6.85s/it]\n29it [03:15,  6.78s/it]\n39it [04:22,  6.62s/it]\n49it [05:29,  6.82s/it]\n59it [06:37,  6.73s/it]\n69it [07:43,  6.54s/it]\n79it [08:50,  6.68s/it]\n89it [09:56,  6.65s/it]\n99it [11:03,  6.62s/it]\n109it [12:10,  6.71s/it]\n119it [13:18,  6.82s/it]\n129it [14:26,  6.90s/it]\n136it [15:14,  6.83s/it]\n9it [01:00,  6.80s/it]\n19it [02:08,  6.83s/it]\n29it [03:14,  6.65s/it]\n39it [04:21,  6.61s/it]\n49it [05:28,  6.70s/it]\n59it [06:35,  6.77s/it]\n69it [07:41,  6.49s/it]\n79it [08:48,  6.66s/it]\n89it [09:55,  6.73s/it]\n99it [11:00,  6.51s/it]\n109it [12:08,  6.75s/it]\n119it [13:17,  6.85s/it]\n129it [14:25,  6.79s/it]\n136it [15:12,  6.74s/it]\n9it [01:00,  6.77s/it]\n19it [02:08,  6.92s/it]\n29it [03:14,  6.68s/it]\n39it [04:22,  6.66s/it]\n49it [05:28,  6.70s/it]\n59it [06:35,  6.76s/it]\n69it [07:42,  6.60s/it]\n79it [08:49,  6.56s/it]\n89it [09:56,  6.77s/it]\n99it [11:02,  6.55s/it]\n109it [12:09,  6.76s/it]\n119it [13:18,  6.78s/it]\n129it [14:26,  6.74s/it]\n136it [15:13,  6.73s/it]\n9it [01:00,  6.77s/it]\n19it [02:07,  6.78s/it]\n29it [03:14,  6.70s/it]\n39it [04:22,  6.65s/it]\n49it [05:29,  6.77s/it]\n59it [06:36,  6.74s/it]\n69it [07:42,  6.50s/it]\n79it [08:49,  6.59s/it]\n89it [09:57,  6.76s/it]\n99it [11:03,  6.55s/it]\n109it [12:10,  6.73s/it]\n119it [13:19,  6.81s/it]\n129it [14:26,  6.69s/it]\n136it [15:14,  6.80s/it]\n9it [01:01,  6.87s/it]\n19it [02:09,  6.92s/it]\n29it [03:16,  6.73s/it]\n39it [04:23,  6.60s/it]\n49it [05:30,  6.80s/it]\n59it [06:37,  6.81s/it]\n69it [07:44,  6.63s/it]\n79it [08:50,  6.55s/it]\n89it [09:56,  6.67s/it]\n99it [11:03,  6.60s/it]\n109it [12:11,  6.74s/it]\n119it [13:19,  6.83s/it]\n129it [14:27,  6.70s/it]\n136it [15:15,  6.84s/it]\n9it [01:00,  6.76s/it]\n19it [02:08,  6.84s/it]\n29it [03:15,  6.71s/it]\n39it [04:22,  6.64s/it]\n49it [05:29,  6.79s/it]\n59it [06:37,  6.71s/it]\n69it [07:43,  6.56s/it]\n79it [08:49,  6.57s/it]\n89it [09:56,  6.61s/it]\n99it [11:02,  6.59s/it]\n109it [12:09,  6.78s/it]\n119it [13:18,  6.77s/it]\n129it [14:26,  6.71s/it]\n136it [15:13,  6.71s/it]\n9it [01:00,  6.77s/it]\n19it [02:07,  6.75s/it]\n29it [03:15,  6.81s/it]\n39it [04:21,  6.64s/it]\n49it [05:29,  6.78s/it]\n58it [06:30,  6.68s/it]"
        }
      ]
    },
    {
      "cell_type": "code",
      "metadata": {
        "cellId": "omztf27igiai9nehtdxfc",
        "id": "z1otJci-48Wj"
      },
      "source": [
        "#!g1.1\n"
      ],
      "execution_count": null,
      "outputs": []
    }
  ]
}